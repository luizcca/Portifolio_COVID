{
 "cells": [
  {
   "cell_type": "markdown",
   "id": "6b701d07",
   "metadata": {},
   "source": [
    "# TIPOS DE TABELA USADAS EM BANCO DE DADOS"
   ]
  },
  {
   "cell_type": "markdown",
   "id": "37d55e6b",
   "metadata": {},
   "source": [
    "# VIEW"
   ]
  },
  {
   "cell_type": "markdown",
   "id": "a5a3f124",
   "metadata": {},
   "source": [
    "### O que são VIEW no MySQL?\n",
    "    As **VIEW** são tabelas virtuais que não armazenam dados próprios, mas exibem dados armazenados em outras tabelas. Em outras palavras, as **VIEW** não são nada além de consultas SQL. Uma **VIEW** pode conter todas ou algumas linhas de uma tabela. Uma **VIEW** MySQL pode mostrar dados de uma tabela ou de várias tabelas."
   ]
  },
  {
   "cell_type": "markdown",
   "id": "a17201eb",
   "metadata": {},
   "source": [
    "# CTE - common table explessions"
   ]
  },
  {
   "cell_type": "markdown",
   "id": "75b76715",
   "metadata": {},
   "source": [
    "### O que é um CTE?\n",
    "\n",
    "    No MySQL, cada consulta gera um resultado ou relação temporária. Para dar um nome a esses conjuntos de resultados Temporários, O CTE é usado.\n",
    "\n",
    "    Um CTE é definido usando a cláusula WITH.\n",
    "    Usando cláusula WITH podemos definir mais de um CTEs em uma única instrução.\n",
    "    Uma CTE pode ser referenciado nos outros CTEs que fazem parte da mesma cláusula, mas esses CTEs devem ser definidos anteriormente.\n",
    "    O escopo de cada CTE existe dentro da declaração em que é definido.\n",
    "    Um CTE recursivo é uma subconsulta que se refere a si mesma usando seu próprio nome.\n",
    "\n",
    "    Os CTEs recursivos são definidos usando cláusula WITH RECURSIVE.\n",
    "    Deve haver uma condição de terminação para CTE recursivo.\n",
    "    Os CTEs recursivos são usados para geração em série e travessia de dados hierárquicos ou estruturados em árvore."
   ]
  },
  {
   "cell_type": "markdown",
   "id": "221a923d",
   "metadata": {},
   "source": [
    "### CTE - common table explessions, Difference between CTE and Temp Table and Table Variable\n",
    "\n",
    "    In SQL Server, we have various options for storing data temporarily. Temp Table, Table variable and CTE are commonly used way for storing temporary data. In this article, you will learn about the main differences between Temp Table, Table variable and CTE.\n",
    "\n",
    "## CTE - Common Table Expressions\n",
    "\n",
    "    CTE stands for Common Table Expressions. It was introduced with SQL Server 2005. It is a temporary result set and typically it may be a result of complex sub-query. Unlike the temporary table, its life is limited to the current query. It is defined by using WITH statement. CTE improves readability and ease in maintenance of complex queries and sub-queries. Always begin CTE with a semicolon.\n",
    "\n",
    "### A subquery without CTE is given below :\n",
    "\n",
    "    '''\n",
    "    SELECT * FROM (\n",
    "     SELECT Addr.Address, Emp.Name, Emp.Age From Address Addr\n",
    "     Inner join Employee Emp on Emp.EID = Addr.EID) Temp\n",
    "    WHERE Temp.Age > 50\n",
    "    ORDER BY Temp.NAME\n",
    "    '''\n",
    "\n",
    "### By using CTE above query can be re-written as follows :\n",
    "\n",
    "    '''\n",
    "    ;With CTE1(Address, Name, Age)--Column names for CTE, which are optional\n",
    "    AS\n",
    "    (\n",
    "    SELECT Addr.Address, Emp.Name, Emp.Age from Address Addr\n",
    "    INNER JOIN EMP Emp ON Emp.EID = Addr.EID\n",
    "    )\n",
    "    SELECT * FROM CTE1 --Using CTE \n",
    "    WHERE CTE1.Age > 50\n",
    "    ORDER BY CTE1.NAME\n",
    "    '''\n",
    "\n",
    "### When to use CTE?\n",
    "\n",
    "- 1. This is used to store the result of a complex subquery for further use.\n",
    "\n",
    "- 2. This is also used to create a recursive query.\n",
    "\n",
    "    Temporary Tables\n",
    "    In SQL Server, temporary tables are created at run-time and you can do all the operations which you can do on a normal table. These tables are created inside the Tempdb database. Based on the scope and behavior temporary tables are of two types as given below-\n",
    "\n",
    "### Local Temp Table\n",
    "\n",
    "- 1.Local temp tables are only available to the SQL Server session or connection (means single user) that created the tables. These are automatically deleted when the session that created the tables has been closed. The local temporary table name is stared with a single hash (\"#\") sign.\n",
    "\n",
    "    '''\n",
    "    CREATE TABLE #LocalTemp\n",
    "    (\n",
    "     UserID int,\n",
    "     Name varchar(50), \n",
    "     Address varchar(150)\n",
    "    )\n",
    "    GO\n",
    "    insert into #LocalTemp values ( 1, 'Shailendra','Noida');\n",
    "    GO\n",
    "    Select * from #LocalTemp\n",
    "    '''\n",
    "    The scope of Local temp table exists to the current session of the current user means to the current query window. If you will close the current query window or open a new query window and will try to find above-created temp table, it will give you the error.\n",
    "\n",
    "## Global Temp Table\n",
    "\n",
    "    Global temp tables are available to all SQL Server sessions or connections (means all the user). These can be created by any SQL Server connection user and these are automatically deleted when all the SQL Server connections have been closed. The global temporary table name is stared with double hash (\"##\") sign.\n",
    "\n",
    "    '''\n",
    "    CREATE TABLE ##GlobalTemp\n",
    "    (\n",
    "     UserID int,\n",
    "     Name varchar(50), \n",
    "     Address varchar(150)\n",
    "    )\n",
    "    GO\n",
    "    insert into ##GlobalTemp values ( 1, 'Shailendra','Noida');\n",
    "    GO\n",
    "    Select * from ##GlobalTemp\n",
    "    '''\n",
    "\n",
    "    Global temporary tables are visible to all SQL Server connections while Local temporary tables are visible to only current SQL Server connection.\n",
    "\n",
    "## Table Variable\n",
    "\n",
    "    This acts like a variable and exists for a particular batch of query execution. It gets dropped once it comes out of the batch. This is also created in the tempdb database but not the memory. This also allows you to create a primary key, identity at the time of Table variable declaration but not non-clustered index.\n",
    "\n",
    "    '''\n",
    "     GO\n",
    "     DECLARE @TProduct TABLE\n",
    "     (\n",
    "     SNo INT IDENTITY(1,1),\n",
    "     ProductID INT,\n",
    "     Qty INT\n",
    "     ) \n",
    "     --Insert data to Table variable @Product \n",
    "     INSERT INTO @TProduct(ProductID,Qty)\n",
    "     SELECT DISTINCT ProductID, Qty FROM ProductsSales ORDER BY ProductID ASC \n",
    "     --Select data\n",
    "     Select * from @TProduct\n",
    "\n",
    "     --Next batch\n",
    "     GO\n",
    "     Select * from @TProduct --gives error in next batch\n",
    "     '''\n",
    " \n",
    "## Note\n",
    "    1. Temp Tables are physically created in the tempdb database. These tables act as the normal table and also can have constraints, an index like normal tables.\n",
    "\n",
    "    2. CTE is a named temporary result set which is used to manipulate the complex sub-queries data. This exists for the scope of a statement. This is created in memory rather than the Tempdb database. You cannot create an index on CTE.\n",
    "\n",
    "    3. Table Variable acts like a variable and exists for a particular batch of query execution. It gets dropped once it comes out of a batch. This is also created in the tempdb database but not the memory."
   ]
  },
  {
   "cell_type": "markdown",
   "id": "118da26c",
   "metadata": {},
   "source": [
    "# TABELAS TEMPORÁRIAS"
   ]
  },
  {
   "cell_type": "markdown",
   "id": "66e0394c",
   "metadata": {},
   "source": [
    "### Introdução às tabelas temporárias do MySQL\n",
    "\n",
    "No MySQL, uma tabela temporária é um tipo especial de tabela que permite armazenar um conjunto de resultados temporários, que você pode reutilizar várias vezes em uma única sessão.\n",
    "\n",
    "Uma tabela temporária é muito útil quando é impossível ou caro consultar dados que requerem uma única instrução SELECT com as cláusulas JOIN. Nesse caso, você pode usar uma tabela temporária para armazenar o resultado imediato e usar outra consulta para processá-lo.\n",
    "\n",
    "Uma tabela temporária MySQL tem os seguintes recursos especializados:\n",
    "\n",
    "   - Uma tabela temporária é criada usando a instrução CREATE TEMPORARY TABLE. Observe que a palavra-chave temporária é adicionada entre as palavras-chave criar e tabela.\n",
    "   - O MySQL remove a tabela temporária automaticamente quando a sessão termina ou a conexão é encerrada. Claro, você pode usar a instrução DROP TABLE para remover uma tabela temporária explicitamente quando você não estiver mais usá-la.\n",
    "   - Uma tabela temporária só está disponível e acessível ao cliente que a cria. Diferentes clientes podem criar tabelas temporárias com o mesmo nome sem causar erros, pois somente o cliente que cria a tabela temporária pode vê-la. No entanto, na mesma sessão, duas tabelas temporárias não podem compartilhar o mesmo nome.\n",
    "   - Uma tabela temporária pode ter o mesmo nome de uma tabela normal em um banco de dados. Por exemplo, se você criar uma tabela temporária chamada funcionários no banco de dados de amostra, a tabela funcionários existente ficará inacessível. Cada consulta que você emite na tabela de funcionários agora está se referindo aos funcionários da tabela temporária. Quando você solta a tabela temporária de funcionários, a tabela de funcionários permanentes está disponível e acessível.\n",
    "       - Mesmo que uma tabela temporária possa ter o mesmo nome de uma tabela permanente, ela não é recomendada. Porque isso pode levar a confusão e potencialmente causar uma perda inesperada de dados."
   ]
  }
 ],
 "metadata": {
  "kernelspec": {
   "display_name": "Python 3",
   "language": "python",
   "name": "python3"
  },
  "language_info": {
   "codemirror_mode": {
    "name": "ipython",
    "version": 3
   },
   "file_extension": ".py",
   "mimetype": "text/x-python",
   "name": "python",
   "nbconvert_exporter": "python",
   "pygments_lexer": "ipython3",
   "version": "3.8.8"
  }
 },
 "nbformat": 4,
 "nbformat_minor": 5
}
